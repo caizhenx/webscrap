{
 "cells": [
  {
   "cell_type": "code",
   "execution_count": 11,
   "metadata": {},
   "outputs": [
    {
     "name": "stdout",
     "output_type": "stream",
     "text": [
      "b\n",
      "<html><body><abc class=\"boldest\">Extremely bold</abc></body></html>\n",
      "['boldest']\n",
      "{'class': ['boldest']}\n",
      "['boldest']\n",
      "None\n"
     ]
    }
   ],
   "source": [
    "## beautifulsoup的使用\n",
    "##https://beautifulsoup.readthedocs.io/zh_CN/latest/\n",
    "\n",
    "from bs4 import BeautifulSoup\n",
    "\n",
    "html_doc = \"\"\"\n",
    "<html><head><title>The Dormouse's story</title></head>\n",
    "<body>\n",
    "<p class=\"title\"><b>The Dormouse's story</b></p>\n",
    "\n",
    "<p class=\"story\">Once upon a time there were three little sisters; and their names were\n",
    "<a href=\"http://example.com/elsie\" class=\"sister\" id=\"link1\">Elsie</a>,\n",
    "<a href=\"http://example.com/lacie\" class=\"sister\" id=\"link2\">Lacie</a> and\n",
    "<a href=\"http://example.com/tillie\" class=\"sister\" id=\"link3\">Tillie</a>;\n",
    "and they lived at the bottom of a well.</p>\n",
    "\n",
    "<p class=\"story\">...</p>\n",
    "\"\"\"\n",
    "    \n",
    "soup = BeautifulSoup(html_doc,'html.parser')\n",
    "## 输出网页源码\n",
    "##print(soup.prettify())\n",
    "\n",
    "## print(soup.title.parent.name)\n",
    "## 找第一个 标签 的字符串\n",
    "##print(soup.p)\n",
    "## 找第一个链接 a \n",
    "##print(soup.a)\n",
    "## 找出所有的链接\n",
    "##soup.find_all('a')\n",
    "##for link in soup.find_all('a'):\n",
    "##    print(link.get('href'))\n",
    "##利用id找\n",
    "##soup.find(id='link3')\n",
    "## beautiful soup将复杂文档转变为一个复杂的树形结构，每个节点都是python对象。\n",
    "soup = BeautifulSoup('<b class=\"boldest\">Extremely bold</b>')\n",
    "tag = soup.b\n",
    "print(tag.name)\n",
    "tag.name = 'abc'\n",
    "print(soup)\n",
    "print(tag['class'])\n",
    "print(tag.attrs)\n",
    "print(tag.get('class'))\n",
    "print(soup.a)\n"
   ]
  },
  {
   "cell_type": "code",
   "execution_count": 12,
   "metadata": {},
   "outputs": [
    {
     "name": "stdout",
     "output_type": "stream",
     "text": [
      "['index']\n",
      "<p>Back to the <a rel=\"index contents\">homepage</a></p>\n"
     ]
    }
   ],
   "source": [
    "rel_soup = BeautifulSoup('<p>Back to the <a rel=\"index\">homepage</a></p>')\n",
    "print(rel_soup.a['rel'])\n",
    "\n",
    "## 多属性值会变为一个值\n",
    "rel_soup.a['rel'] = ['index', 'contents']\n",
    "print(rel_soup.p)\n"
   ]
  },
  {
   "cell_type": "code",
   "execution_count": 53,
   "metadata": {},
   "outputs": [
    {
     "name": "stdout",
     "output_type": "stream",
     "text": [
      "<a class=\"mother\" href=\"http://example.com/tillie\" id=\"link3\">Tillie</a>\n"
     ]
    },
    {
     "data": {
      "text/plain": [
       "[<a class=\"sister\" href=\"http://example.com/lacie\" id=\"link2\">Lacie</a>,\n",
       " <a class=\"sister\" href=\"http://example.com/elsie\" id=\"link1\">Elsie</a>]"
      ]
     },
     "execution_count": 53,
     "metadata": {},
     "output_type": "execute_result"
    }
   ],
   "source": [
    "## beautifulsoup的使用\n",
    "##https://beautifulsoup.readthedocs.io/zh_CN/latest/\n",
    "\n",
    "from bs4 import BeautifulSoup\n",
    "import re\n",
    "html_doc = \"\"\"\n",
    "<html><head><title>The Dormouse's story</title></head>\n",
    "<body>\n",
    "<p class=\"title\"><b>The Dormouse's story</b></p>\n",
    "\n",
    "<p class=\"story\">Once upon a time there were three little sisters; and their names were\n",
    "<a href=\"http://example.com/elsie\" class=\"sister\" id=\"link1\">Elsie</a>,\n",
    "<a href=\"http://example.com/lacie\" class=\"sister\" id=\"link2\">Lacie</a> and\n",
    "<a href=\"http://example.com/tillie\" class=\"mother\" id=\"link3\">Tillie</a>;\n",
    "and they lived at the bottom of a well.</p>\n",
    "\n",
    "<p class=\"story\">...</p>\n",
    "\"\"\"\n",
    "    \n",
    "soup = BeautifulSoup(html_doc,'html.parser')\n",
    "# link =soup.a\n",
    "# for parent in link.parents:\n",
    "#     if(parent is None):\n",
    "#         print(parent)\n",
    "#     else:\n",
    "#         print(parent.name)\n",
    "\n",
    "soup.find_all(class_=\"sister\",limit=2)\n",
    "\n",
    "link = soup.find(id='link3')\n",
    "\n",
    "print(link)\n",
    "link.find_previous_siblings(\"a\")\n",
    "# def has_six_characters(css_class):\n",
    "#     return css_class is not None and len(css_class) == 6\n",
    "\n",
    "# soup.find_all(class_=has_six_characters)\n"
   ]
  }
 ],
 "metadata": {
  "kernelspec": {
   "display_name": "Python 3",
   "language": "python",
   "name": "python3"
  },
  "language_info": {
   "codemirror_mode": {
    "name": "ipython",
    "version": 3
   },
   "file_extension": ".py",
   "mimetype": "text/x-python",
   "name": "python",
   "nbconvert_exporter": "python",
   "pygments_lexer": "ipython3",
   "version": "3.7.4"
  }
 },
 "nbformat": 4,
 "nbformat_minor": 4
}
